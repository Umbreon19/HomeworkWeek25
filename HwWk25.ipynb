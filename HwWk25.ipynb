{
 "cells": [
  {
   "cell_type": "code",
   "execution_count": 31,
   "metadata": {},
   "outputs": [
    {
     "name": "stdout",
     "output_type": "stream",
     "text": [
      "{'c': 3, 'h': 3, 'e': 10, 's': 5, 'a': 9, 'n': 8, 'd': 5, 'b': 2}\n"
     ]
    }
   ],
   "source": [
    "string=('cheeseandcheeseandcheeseandbeansandbananasand')\n",
    "d={}\n",
    "def histogramFella(string):\n",
    "    for letter in string:        \n",
    "        if letter not in d:\n",
    "            d[letter]=1            \n",
    "        else:\n",
    "            d[letter]=d[letter]+1\n",
    "    return d    \n",
    "print(histogramFella(string))"
   ]
  },
  {
   "cell_type": "code",
   "execution_count": 32,
   "metadata": {},
   "outputs": [
    {
     "name": "stdout",
     "output_type": "stream",
     "text": [
      "{3: ['c', 'h'], 10: ['e'], 5: ['s', 'd'], 9: ['a'], 8: ['n'], 2: ['b']}\n"
     ]
    }
   ],
   "source": [
    "def invertFella(d):\n",
    "    invertFella={}\n",
    "    for key in d:\n",
    "        if d[key]not in invertFella:\n",
    "            invertFella[d[key]]=[key]\n",
    "        else:\n",
    "            invertFella[d[key]].append(key)\n",
    "    return invertFella\n",
    "print (invertFella(d))"
   ]
  },
  {
   "cell_type": "code",
   "execution_count": null,
   "metadata": {},
   "outputs": [],
   "source": []
  },
  {
   "cell_type": "code",
   "execution_count": null,
   "metadata": {},
   "outputs": [],
   "source": []
  }
 ],
 "metadata": {
  "kernelspec": {
   "display_name": "Python 3",
   "language": "python",
   "name": "python3"
  },
  "language_info": {
   "codemirror_mode": {
    "name": "ipython",
    "version": 3
   },
   "file_extension": ".py",
   "mimetype": "text/x-python",
   "name": "python",
   "nbconvert_exporter": "python",
   "pygments_lexer": "ipython3",
   "version": "3.8.3"
  }
 },
 "nbformat": 4,
 "nbformat_minor": 4
}
